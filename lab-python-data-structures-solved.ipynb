{
 "cells": [
  {
   "cell_type": "markdown",
   "metadata": {
    "tags": []
   },
   "source": [
    "# Lab | Data Structures "
   ]
  },
  {
   "cell_type": "markdown",
   "metadata": {},
   "source": [
    "## Exercise: Managing Customer Orders\n",
    "\n",
    "As part of a business venture, you are starting an online store that sells various products. To ensure smooth operations, you need to develop a program that manages customer orders and inventory.\n",
    "\n",
    "Follow the steps below to complete the exercise:\n",
    "\n",
    "1. Define a list called `products` that contains the following items: \"t-shirt\", \"mug\", \"hat\", \"book\", \"keychain\".\n",
    "\n",
    "2. Create an empty dictionary called `inventory`.\n",
    "\n",
    "3. Ask the user to input the quantity of each product available in the inventory. Use the product names from the `products` list as keys in the `inventory` dictionary and assign the respective quantities as values.\n",
    "\n",
    "4. Create an empty set called `customer_orders`.\n",
    "\n",
    "5. Ask the user to input the name of three products that a customer wants to order (from those in the products list, meaning three products out of \"t-shirt\", \"mug\", \"hat\", \"book\" or \"keychain\". Add each product name to the `customer_orders` set.\n",
    "\n",
    "6. Print the products in the `customer_orders` set.\n",
    "\n",
    "7. Calculate the following order statistics:\n",
    "   - Total Products Ordered: The total number of products in the `customer_orders` set.\n",
    "   - Percentage of Products Ordered: The percentage of products ordered compared to the total available products.\n",
    "   \n",
    "   Store these statistics in a tuple called `order_status`.\n",
    "\n",
    "8. Print the order statistics using the following format:\n",
    "   ```\n",
    "   Order Statistics:\n",
    "   Total Products Ordered: <total_products_ordered>\n",
    "   Percentage of Products Ordered: <percentage_ordered>% \n",
    "   ```\n",
    "\n",
    "9. Update the inventory by subtracting 1 from the quantity of each product. Modify the `inventory` dictionary accordingly.\n",
    "\n",
    "10. Print the updated inventory, displaying the quantity of each product on separate lines.\n",
    "\n",
    "Solve the exercise by implementing the steps using the Python concepts of lists, dictionaries, sets, and basic input/output operations. "
   ]
  },
  {
   "cell_type": "code",
   "execution_count": 1,
   "metadata": {},
   "outputs": [],
   "source": [
    "#Define a list called products that contains the following items: \"t-shirt\", \"mug\", \"hat\", \"book\", \"keychain\"\n",
    "products= [\"t-shirt\", \"mug\", \"hat\", \"book\", \"keychain\"]"
   ]
  },
  {
   "cell_type": "code",
   "execution_count": 3,
   "metadata": {},
   "outputs": [],
   "source": [
    "#2. Create an empty dictionary called inventory.\n",
    "inventory={}"
   ]
  },
  {
   "cell_type": "code",
   "execution_count": 6,
   "metadata": {},
   "outputs": [
    {
     "name": "stdin",
     "output_type": "stream",
     "text": [
      "please enter quantity of product: 9\n",
      "please enter quantity of product: 9\n",
      "please enter quantity of product: 9\n",
      "please enter quantity of product: 9\n",
      "please enter quantity of product: 9\n"
     ]
    },
    {
     "name": "stdout",
     "output_type": "stream",
     "text": [
      "{'t-shirt': 9, 'mug': 9, 'hat': 9, 'book': 9, 'keychain': 9}\n"
     ]
    }
   ],
   "source": [
    "#3. Ask the user to input the quantity of each product available in the inventory. \n",
    "#Use the product names from the products list as keys in the inventory dictionary and assign the respective quantities as values.\n",
    "t_shirt_input= int(input(\"please enter quantity of product:\"))\n",
    "mug_input= int(input(\"please enter quantity of product:\"))\n",
    "hat_input= int(input(\"please enter quantity of product:\"))\n",
    "book_input= int(input(\"please enter quantity of product:\"))\n",
    "keychain_input= int(input(\"please enter quantity of product:\"))\n",
    "\n",
    "inventory= {\"t-shirt\":t_shirt_input,\"mug\":mug_input,\"hat\":hat_input,\"book\":book_input,\"keychain\":keychain_input}\n",
    "print(inventory)"
   ]
  },
  {
   "cell_type": "code",
   "execution_count": 5,
   "metadata": {},
   "outputs": [
    {
     "name": "stdin",
     "output_type": "stream",
     "text": [
      "enter quantities for t-shirt  9\n",
      "enter quantities for mug  9\n",
      "enter quantities for hat  9\n",
      "enter quantities for book  9\n",
      "enter quantities for keychain  9\n"
     ]
    },
    {
     "name": "stdout",
     "output_type": "stream",
     "text": [
      "{'t-shirt': 9, 'mug': 9, 'hat': 9, 'book': 9, 'keychain': 9}\n"
     ]
    }
   ],
   "source": [
    "#another solution for 3 using for loop for user input quantity\n",
    "for product in products:\n",
    "    user_quantity= int(input(f\"enter quantities for {product} \"))\n",
    "    inventory.update({product:user_quantity})\n",
    "\n",
    "print(inventory) "
   ]
  },
  {
   "cell_type": "code",
   "execution_count": 7,
   "metadata": {},
   "outputs": [
    {
     "data": {
      "text/plain": [
       "set"
      ]
     },
     "execution_count": 7,
     "metadata": {},
     "output_type": "execute_result"
    }
   ],
   "source": [
    "#4. Create an empty set called customer_orders\n",
    "customer_order=set()\n",
    "type(customer_order)"
   ]
  },
  {
   "cell_type": "code",
   "execution_count": 9,
   "metadata": {},
   "outputs": [
    {
     "name": "stdin",
     "output_type": "stream",
     "text": [
      "Please enter product from the list:  mug\n",
      "Please enter product from the list:  book\n",
      "Please enter product from the list:  hat\n"
     ]
    },
    {
     "name": "stdout",
     "output_type": "stream",
     "text": [
      "Products Ordered: {'mug', 'book', 'hat'}\n"
     ]
    }
   ],
   "source": [
    "#5. Ask the user to input the name of three products that a customer wants to order. \n",
    "#Add each product name to the customer_orders set.\n",
    "\n",
    "for i in range(3): #restraining customers to choose 3 products\n",
    "    selected_product = input(\"Please enter product from the list: \").strip().lower() #to fix further error added strip and lower and avoid error in customer's input\n",
    "    if selected_product in products:\n",
    "        customer_order.add(selected_product)\n",
    "    else:\n",
    "        print(f\"{selected_product} is not in the list. Please erite the correct product name.\")\n",
    "\n",
    "#6. Print the products in the customer_orders set\n",
    "print(\"Products Ordered:\", customer_order)"
   ]
  },
  {
   "cell_type": "code",
   "execution_count": 11,
   "metadata": {},
   "outputs": [
    {
     "name": "stdout",
     "output_type": "stream",
     "text": [
      "Total products ordered: 3\n",
      "Percentage of products ordered: 60.0\n",
      "order status: (3, 60.0)\n"
     ]
    }
   ],
   "source": [
    "#7 and 8 Calculate the following order statistics:\n",
    "#Total Products Ordered: The total number of products in the customer_orders set.\n",
    "#Percentage of Products Ordered: The percentage of products ordered compared to the total available products.\n",
    "#Store these statistics in a tuple called order_status\n",
    "\n",
    "total_products_ordered=len(customer_order)\n",
    "print(\"Total products ordered:\", total_products_ordered)\n",
    "Percentage_Products_Ordered=total_products_ordered/len(products)*100\n",
    "print(\"Percentage of products ordered:\", Percentage_Products_Ordered)\n",
    "\n",
    "order_status_list=[total_products_ordered,Percentage_Products_Ordered]\n",
    "order_status=tuple(order_status_list)\n",
    "print(\"order status:\", order_status)\n"
   ]
  },
  {
   "cell_type": "code",
   "execution_count": 13,
   "metadata": {},
   "outputs": [],
   "source": [
    "# 9 Update the inventory by subtracting 1 from each product's quantity\n",
    "for product in customer_order:\n",
    "    if product in inventory:  \n",
    "        inventory[product] -= 1  \n",
    "    else:\n",
    "        print(f\"{product} not found in inventory.\")"
   ]
  },
  {
   "cell_type": "code",
   "execution_count": 15,
   "metadata": {},
   "outputs": [
    {
     "name": "stdout",
     "output_type": "stream",
     "text": [
      "Updated Inventory:\n",
      "t-shirt: 9\n",
      "mug: 8\n",
      "hat: 8\n",
      "book: 8\n",
      "keychain: 9\n"
     ]
    }
   ],
   "source": [
    "# 10 Print the updated inventory\n",
    "print(\"Updated Inventory:\")\n",
    "for product, quantity in inventory.items():\n",
    "    print(f\"{product}: {quantity}\")"
   ]
  }
 ],
 "metadata": {
  "kernelspec": {
   "display_name": "Python 3 (ipykernel)",
   "language": "python",
   "name": "python3"
  },
  "language_info": {
   "codemirror_mode": {
    "name": "ipython",
    "version": 3
   },
   "file_extension": ".py",
   "mimetype": "text/x-python",
   "name": "python",
   "nbconvert_exporter": "python",
   "pygments_lexer": "ipython3",
   "version": "3.12.4"
  }
 },
 "nbformat": 4,
 "nbformat_minor": 4
}
